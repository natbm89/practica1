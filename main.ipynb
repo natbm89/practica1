{
 "cells": [
  {
   "cell_type": "code",
   "execution_count": 4,
   "id": "44d9b098-970f-4cc9-9347-4e15b4482292",
   "metadata": {},
   "outputs": [
    {
     "name": "stdout",
     "output_type": "stream",
     "text": [
      "¡Hola, Mundo!\n"
     ]
    }
   ],
   "source": [
    "print (\"¡Hola, Mundo!\")"
   ]
  },
  {
   "cell_type": "code",
   "execution_count": null,
   "id": "82abf7cb-6d5a-4c3f-901a-8f168c0f793b",
   "metadata": {},
   "outputs": [],
   "source": []
  }
 ],
 "metadata": {
  "kernelspec": {
   "display_name": "Python [conda env:base] *",
   "language": "python",
   "name": "conda-base-py"
  },
  "language_info": {
   "codemirror_mode": {
    "name": "ipython",
    "version": 3
   },
   "file_extension": ".py",
   "mimetype": "text/x-python",
   "name": "python",
   "nbconvert_exporter": "python",
   "pygments_lexer": "ipython3",
   "version": "3.12.7"
  }
 },
 "nbformat": 4,
 "nbformat_minor": 5
}
